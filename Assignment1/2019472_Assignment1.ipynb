{
  "nbformat": 4,
  "nbformat_minor": 0,
  "metadata": {
    "colab": {
      "name": "NLPAssignment1.ipynb",
      "provenance": [],
      "collapsed_sections": []
    },
    "kernelspec": {
      "name": "python3",
      "display_name": "Python 3"
    },
    "language_info": {
      "name": "python"
    }
  },
  "cells": [
    {
      "cell_type": "markdown",
      "metadata": {
        "id": "IhpQHoyx_ni0"
      },
      "source": [
        ""
      ]
    },
    {
      "cell_type": "markdown",
      "metadata": {
        "id": "0ATgfO1aAFm_"
      },
      "source": [
        "**Assignment 1. Spam Message Classification**"
      ]
    },
    {
      "cell_type": "code",
      "metadata": {
        "id": "NFNGQDeI_f1o"
      },
      "source": [
        "import nltk\n",
        "import re\n",
        "import pandas as pd"
      ],
      "execution_count": null,
      "outputs": []
    },
    {
      "cell_type": "markdown",
      "metadata": {
        "id": "mtVyEzW_ATeu"
      },
      "source": [
        "Loading the dataset."
      ]
    },
    {
      "cell_type": "code",
      "metadata": {
        "colab": {
          "resources": {
            "http://localhost:8080/nbextensions/google.colab/files.js": {
              "data": "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",
              "ok": true,
              "headers": [
                [
                  "content-type",
                  "application/javascript"
                ]
              ],
              "status": 200,
              "status_text": ""
            }
          },
          "base_uri": "https://localhost:8080/",
          "height": 72
        },
        "id": "3X6JPx3jAaRo",
        "outputId": "8c15726b-bb18-494f-9ad4-dc01f4f6ff7a"
      },
      "source": [
        "from google.colab import files\n",
        "# Upload the dataset.\n",
        "uploaded = files.upload() \n",
        "\n",
        "dataset = pd.read_csv(\"a01_spam.csv\")"
      ],
      "execution_count": null,
      "outputs": [
        {
          "output_type": "display_data",
          "data": {
            "text/html": [
              "\n",
              "     <input type=\"file\" id=\"files-f2840f7e-f768-4658-8b72-97993dedcf3a\" name=\"files[]\" multiple disabled\n",
              "        style=\"border:none\" />\n",
              "     <output id=\"result-f2840f7e-f768-4658-8b72-97993dedcf3a\">\n",
              "      Upload widget is only available when the cell has been executed in the\n",
              "      current browser session. Please rerun this cell to enable.\n",
              "      </output>\n",
              "      <script src=\"/nbextensions/google.colab/files.js\"></script> "
            ],
            "text/plain": [
              "<IPython.core.display.HTML object>"
            ]
          },
          "metadata": {}
        },
        {
          "output_type": "stream",
          "name": "stdout",
          "text": [
            "Saving a01_spam.csv to a01_spam.csv\n"
          ]
        }
      ]
    },
    {
      "cell_type": "markdown",
      "metadata": {
        "id": "E2m80L75CrQ6"
      },
      "source": [
        "Task 1."
      ]
    },
    {
      "cell_type": "code",
      "metadata": {
        "id": "9o-XGTa_Cym-"
      },
      "source": [
        "startWithVowels = 0\n",
        "startWithConsonents = 0\n",
        "\n",
        "def countTheNumberOfVowelStartingWords(sentence):\n",
        "  vowels = 0\n",
        "  consonents = 0\n",
        "  for word in sentence.split(\" \"):\n",
        "    if len(word) > 0 and word[0].lower() in \"aeiou\":\n",
        "      vowels += 1\n",
        "    elif len(word) > 0 and word[0].lower() in \"bcdfghjklmnpqrstvwxyz\":\n",
        "      consonents += 1\n",
        "  return vowels, consonents\n",
        "\n",
        "for message in dataset[\"Message\"]:\n",
        "  sVowels, sConsonents = countTheNumberOfVowelStartingWords(message)\n",
        "  startWithConsonents += sConsonents\n",
        "  startWithVowels += sVowels\n",
        "  \n",
        "print(\"The number of words that start with vowels are: \")\n",
        "print(startWithVowels) \n",
        "\n",
        "print()\n",
        "\n",
        "print(\"The number of words that start with consonents are: \")\n",
        "print(startWithConsonents)\n",
        "\n",
        "\n",
        "# To check for a random message. Uncomment the below.\n",
        "# message = input(\"Message: \")\n",
        "# sVowels, sConsonents = countTheNumberOfVowelStartingWords(message)\n",
        "# print(sVowels, \" \", sConsonents)"
      ],
      "execution_count": null,
      "outputs": []
    },
    {
      "cell_type": "markdown",
      "metadata": {
        "id": "wNfoK-45ZuSm"
      },
      "source": [
        "Task 2. Percentage of Capitalized Words in Spam and Ham Messages."
      ]
    },
    {
      "cell_type": "code",
      "metadata": {
        "id": "qE9rbHwZF0Ar"
      },
      "source": [
        "numberOfCapitalizedWordsinSpam = 0\n",
        "numberOfCapitalizedWordsinHam = 0\n",
        "TotalWordsinSpam = 0\n",
        "TotalWordsinHam = 0\n",
        "dataset[\"PercentageOfCW\"] = 0\n",
        "\n",
        "def wordIsCapital(word):\n",
        "  for letter in word:\n",
        "    if (letter.islower()) or not (letter.isalpha()):\n",
        "      return False\n",
        "  return True\n",
        "\n",
        "def percentageOfCapitalizedWords(sentence):\n",
        "  NonCapitalWords = 0\n",
        "  capitalizedWords = 0\n",
        "  for word in sentence.split(\" \"):\n",
        "    if len(word) > 0 and wordIsCapital(word):\n",
        "      # print(word)\n",
        "      capitalizedWords += 1\n",
        "    elif len(word) > 0 and not wordIsCapital(word):\n",
        "      NonCapitalWords += 1\n",
        "\n",
        "  totalwords = capitalizedWords + NonCapitalWords\n",
        "\n",
        "  return capitalizedWords, totalwords\n",
        "\n",
        "rowNumber = 0\n",
        "for category, message in zip(dataset[\"Category\"], dataset[\"Message\"]):\n",
        "  capitals, totals = percentageOfCapitalizedWords(message)\n",
        "  dataset.loc[dataset.index[rowNumber], \"PercentageOfCW\"] = (capitals/totals)*100 if (totals > 0) else 0\n",
        "  rowNumber += 1\n",
        "\n",
        "  if category == \"spam\":\n",
        "     numberOfCapitalizedWordsinSpam += capitals\n",
        "     TotalWordsinSpam += totals\n",
        "  else:\n",
        "    numberOfCapitalizedWordsinHam += capitals\n",
        "    TotalWordsinHam += totals\n",
        "\n",
        "print(\"The percenatge of capitalized words in spam messages\")\n",
        "print(numberOfCapitalizedWordsinSpam/TotalWordsinSpam*100)\n",
        "\n",
        "print()\n",
        "\n",
        "print(\"The percentage of capiatalized words in ham messages\")\n",
        "print(numberOfCapitalizedWordsinHam/TotalWordsinHam*100)\n",
        "\n",
        "\n",
        "\n",
        "# To check for a random message. Uncomment the below.\n",
        "# message = input(\"Message: \")\n",
        "# capitals, totals = percentageOfCapitalizedWords(message)\n",
        "# if (totals > 0): \n",
        "#   print(capitals/totals*100)\n"
      ],
      "execution_count": null,
      "outputs": []
    },
    {
      "cell_type": "markdown",
      "metadata": {
        "id": "vZSm8fcIPyxI"
      },
      "source": [
        "Task 3. Printing the numbers and email IDs."
      ]
    },
    {
      "cell_type": "code",
      "metadata": {
        "id": "1j7map-5PwGd"
      },
      "source": [
        "EmailsAndNumbersinSpam = 0\n",
        "TotalSpams = dataset[dataset.Category == 'spam'].shape[0]\n",
        "TotalHams = dataset[dataset.Category == 'ham'].shape[0]\n",
        "EmailsAndNumbersinHam = 0\n",
        "\n",
        "def printEmailsAndNumbers(message):\n",
        "  count_numbers = 0\n",
        "  count_email = 0\n",
        "  regex_emails = r\"[a-z0-9!#$%&'*+/=?^_`{|}~-]+(?:\\.[a-z0-9!#$%&'*+/=?^_`{|}~-]+)*@(?:[a-z0-9](?:[a-z0-9-]*[a-z0-9])?\\.)+[a-z0-9](?:[a-z0-9-]*[a-z0-9])?\"\n",
        "  emails = re.findall(regex_emails, message)\n",
        "  for email in emails:\n",
        "    count_email += 1\n",
        "    print(email)\n",
        "\n",
        "  regex_numbers = r\"(\\d{3}[-\\.\\s]??\\d{3}[-\\.\\s]??\\d{4}|\\(\\d{3}\\)\\s*\\d{3}[-\\.\\s]??\\d{4}\\d{3}[-\\.\\s]??\\d{4})\" \n",
        "  \n",
        "  numbers = re.findall(regex_numbers, message)\n",
        "\n",
        "  for number in numbers:\n",
        "    count_numbers += 1\n",
        "    print(number)\n",
        "\n",
        "  return count_email, count_numbers\n",
        "\n",
        "print(\"The EmailIDs and Phone Numbers are: \")\n",
        "emailIds = 0\n",
        "phoneNumbers = 0\n",
        "TotalEmails = 0\n",
        "TotalPhones = 0\n",
        "EmailsAndNumbersinS = 0\n",
        "EmailsAndNumbersinH = 0\n",
        "\n",
        "for category, message in zip(dataset[\"Category\"], dataset[\"Message\"]):\n",
        "  emailIds, phoneNumbers = printEmailsAndNumbers(message)\n",
        "  TotalEmails += emailIds\n",
        "  TotalPhones += phoneNumbers\n",
        "\n",
        "  if category == \"spam\" and emailIds + phoneNumbers > 0:\n",
        "      EmailsAndNumbersinSpam += emailIds + phoneNumbers\n",
        "      EmailsAndNumbersinS += 1\n",
        "\n",
        "  if category == \"ham\" and emailIds + phoneNumbers > 0:\n",
        "      EmailsAndNumbersinHam += emailIds + phoneNumbers\n",
        "      EmailsAndNumbersinH += 1\n",
        "  \n",
        "  \n",
        "\n",
        "print()\n",
        "print(\"The number of phone Numbers are: \")\n",
        "print(TotalPhones)\n",
        "\n",
        "print()\n",
        "\n",
        "print(\"The number of email ids are: \")\n",
        "print(TotalEmails)\n",
        "\n",
        "print()\n",
        "\n",
        "print(\"The percentage of phone numbers or email Ids present in spam messages: \")\n",
        "print(EmailsAndNumbersinSpam/(TotalEmails + TotalPhones)*100)\n",
        "\n",
        "print()\n",
        "\n",
        "print(\"The percentage of phone numbers or email Ids present in ham messages: \")\n",
        "print(EmailsAndNumbersinHam/(TotalEmails + TotalPhones)*100)\n",
        "\n",
        "print()\n",
        "print(\"The percentage of spam messages with email Ids or phone numbers\")\n",
        "print(EmailsAndNumbersinS/TotalSpams*100)\n",
        "\n",
        "print()\n",
        "print(\"The percentage of spam messages with email Ids or phone numbers\")\n",
        "print(EmailsAndNumbersinH/TotalHams*100)\n",
        "\n",
        "\n",
        "# To check for a random message. Uncomment the below.\n",
        "# message = input(\"Message: \")\n",
        "# emailIds, phoneNumbers = printEmailsAndNumbers(message)\n",
        "  \n",
        "\n"
      ],
      "execution_count": null,
      "outputs": []
    },
    {
      "cell_type": "markdown",
      "metadata": {
        "id": "XC4Cua0doKR6"
      },
      "source": [
        "Task 4. Monetary Quantities"
      ]
    },
    {
      "cell_type": "code",
      "metadata": {
        "id": "zUydenFcoPpl"
      },
      "source": [
        "MoneyInSpam = 0\n",
        "MoneyInHam = 0\n",
        "\n",
        "def printMonetaryQs(message):\n",
        "  count_money = 0\n",
        "  regex_money = r\"(Rs.|[$£€¥₹])?\\s*(\\d{1,3}(?:[, ]?\\d{1,3})?(?:.\\d+)?)(?(1)|\\s*(kr\\.?|Kč|INR|€|pp|p ))\"\n",
        "  moneys = re.findall(regex_money, message)\n",
        "  \n",
        "  for money in moneys:\n",
        "    print(money)\n",
        "    count_money += 1\n",
        "  \n",
        "  return count_money\n",
        "\n",
        "print(\"The Monetary Quantities: \")\n",
        "monetaryQs = 0\n",
        "TotalMs = 0\n",
        "MoneyinS = 0\n",
        "MoneyinH = 0\n",
        "\n",
        "for category, message in zip(dataset[\"Category\"], dataset[\"Message\"]):\n",
        "  monetaryQs = printMonetaryQs(message)\n",
        "  TotalMs += monetaryQs\n",
        "\n",
        "  if category == \"spam\" and monetaryQs > 0:\n",
        "      MoneyInSpam += monetaryQs\n",
        "      MoneyinS += 1\n",
        "\n",
        "  if category == \"ham\" and monetaryQs > 0:\n",
        "      MoneyInHam += monetaryQs\n",
        "      MoneyinH += 1\n",
        "  \n",
        "\n",
        "print()\n",
        "print(\"The number of monetary quantities are: \")\n",
        "print(TotalMs)\n",
        "\n",
        "print()\n",
        "\n",
        "print(\"The percentage of monetray quantities in spams: \")\n",
        "print(MoneyInSpam/(TotalMs)*100)\n",
        "\n",
        "print()\n",
        "\n",
        "print(\"The percentage of monetary quantities in hams: \")\n",
        "print(MoneyInHam/(TotalMs)*100)\n",
        "\n",
        "print()\n",
        "print(\"The percentage of spam messages with monetary quantities\")\n",
        "print(MoneyinS/TotalSpams*100)\n",
        "\n",
        "print()\n",
        "print(\"The percentage of ham messages with monetary quantities\")\n",
        "print(MoneyinH/TotalHams*100)\n",
        "\n",
        "\n",
        "# To check for a random message. Uncomment the below.\n",
        "# message = input(\"Message: \")\n",
        "# monetaryQs = printMonetaryQs(message)\n",
        "# print(monetaryQs)\n",
        "\n",
        "\n"
      ],
      "execution_count": null,
      "outputs": []
    },
    {
      "cell_type": "markdown",
      "metadata": {
        "id": "HU-PSONOvsXI"
      },
      "source": [
        "Task 5. Emoticons"
      ]
    },
    {
      "cell_type": "code",
      "metadata": {
        "colab": {
          "base_uri": "https://localhost:8080/"
        },
        "id": "d_UY6rTYaOF8",
        "outputId": "3b34de25-391e-4d21-faf0-83e2ba88a201"
      },
      "source": [
        "nltk.download('punkt')  "
      ],
      "execution_count": 148,
      "outputs": [
        {
          "output_type": "stream",
          "name": "stdout",
          "text": [
            "[nltk_data] Downloading package punkt to /root/nltk_data...\n",
            "[nltk_data]   Package punkt is already up-to-date!\n"
          ]
        },
        {
          "output_type": "execute_result",
          "data": {
            "text/plain": [
              "True"
            ]
          },
          "metadata": {},
          "execution_count": 148
        }
      ]
    },
    {
      "cell_type": "code",
      "metadata": {
        "id": "KGFpnoloeY_o"
      },
      "source": [
        "from nltk.tokenize import RegexpTokenizer\n",
        "\n",
        "def findemoticons(message):\n",
        "  count = 0\n",
        "  tokenizer = RegexpTokenizer(r\"\"\"(?:[<>]?[:;=8][\\-o\\*\\']?[\\)\\]\\(\\[dDP/\\:\\}\\{@\\|\\\\]|[\\)\\]\\(\\[dDP/\\:\\}\\{@\\|\\\\][\\-o\\*\\']?[:;=8][<>]?|<3)\"\"\")\n",
        "  emoticons = tokenizer.tokenize(message)\n",
        "  count += len(emoticons)\n",
        "  \n",
        "  for emoticon in emoticons:\n",
        "    print(emoticon)\n",
        "\n",
        "  return count\n",
        "\n",
        "\n",
        "NumberOfEmoticons = 0\n",
        "for message in dataset[\"Message\"]:\n",
        "  NumberOfEmoticons += findemoticons(message)\n",
        "\n",
        "print(\"The number of emoticons in the dataset is: \")\n",
        "print(NumberOfEmoticons)\n",
        "  \n",
        "\n",
        "# To check for a random message. Uncomment the below.\n",
        "# message = input(\"Message: \")\n",
        "# print(findEmoticons(message))\n",
        "\n"
      ],
      "execution_count": null,
      "outputs": []
    },
    {
      "cell_type": "markdown",
      "metadata": {
        "id": "Q7E4GstURFyz"
      },
      "source": [
        "Task6. Clitics"
      ]
    },
    {
      "cell_type": "code",
      "metadata": {
        "id": "w63MsKoiJAC9"
      },
      "source": [
        "def findclitics(message):\n",
        "  number = 0\n",
        "  clitics_regex = r\"[a-zA-Z]+\\'[a-zA-Z]+\"\n",
        "  for word in message.split(\" \"):\n",
        "    clitic = re.match(clitics_regex, word)\n",
        "    if (clitic):\n",
        "      number += 1\n",
        "      print(word)\n",
        "\n",
        "  return number\n",
        "    \n",
        "NumberOfClitics = 0\n",
        "for message in dataset[\"Message\"]:\n",
        "  NumberOfClitics += findclitics(message)\n",
        "\n",
        "print(\"The number of clitics in the dataset: \")\n",
        "print(NumberOfClitics)\n",
        "\n",
        "# To check for a random message. Uncomment the below.\n",
        "# message = input(\"Message: \")\n",
        "# print(findclitics(message))\n",
        "\n",
        "\n"
      ],
      "execution_count": null,
      "outputs": []
    },
    {
      "cell_type": "markdown",
      "metadata": {
        "id": "l0--hN_WROxn"
      },
      "source": [
        "Task 7. Messages starting with a given word."
      ]
    },
    {
      "cell_type": "code",
      "metadata": {
        "id": "xj09OZ3eRUTC"
      },
      "source": [
        "from nltk.tokenize import sent_tokenize, RegexpTokenizer\n",
        "\n",
        "def startingWithWordMessage(message, word):\n",
        "  tokenizer = RegexpTokenizer(r'\\w+')\n",
        "  words = tokenizer.tokenize(message)\n",
        "  if (len(words) > 0 and words[0].lower() == word.lower()):\n",
        "    return True\n",
        "  return False\n",
        "\n",
        "word = input(\"Enter the word: \")\n",
        "countOfMessages = 0\n",
        "for message in dataset[\"Message\"]:\n",
        "  if (startingWithWordMessage(message, word)):\n",
        "    print(message)\n",
        "    countOfMessages += 1\n",
        "\n",
        "print()\n",
        "print(\"The number of messages with input word in beginning\")\n",
        "print(countOfMessages)\n",
        "\n",
        "# To check for a random message. Uncomment the below.\n",
        "# message = input(\"Message: \")\n",
        "# staringWithWordMessage(message, word)\n",
        "\n"
      ],
      "execution_count": null,
      "outputs": []
    },
    {
      "cell_type": "markdown",
      "metadata": {
        "id": "scqly38wTA8I"
      },
      "source": [
        "Task 8. Sentence starting with the given word"
      ]
    },
    {
      "cell_type": "code",
      "metadata": {
        "id": "UYVqLutNTFE_"
      },
      "source": [
        "def startingWithWordSentence(message, word):\n",
        "  sentences = sent_tokenize(message)\n",
        "  count = 0\n",
        "  tokenizer = RegexpTokenizer(r'\\w+')\n",
        "  for sentence in sentences:\n",
        "    words = tokenizer.tokenize(sentence)\n",
        "    if (len(words) > 0 and (words[-1]).lower() == word.lower()):\n",
        "      print(sentence)\n",
        "      count += 1\n",
        "  return count\n",
        "\n",
        "word = input(\"Enter the word: \")\n",
        "countOfSentences = 0\n",
        "for message in dataset[\"Message\"]:\n",
        "  countOfSentences += startingWithWordSentence(message, word)\n",
        "  \n",
        "print()\n",
        "print(\"The number of messages with input word in the end of sentence\")\n",
        "print(countOfSentences)\n",
        "\n",
        "# To check for a random message. Uncomment the below.\n",
        "# message = input(\"Message: \")\n",
        "# print(startingWithWordSentence(message, word))\n",
        "\n",
        "\n"
      ],
      "execution_count": null,
      "outputs": []
    },
    {
      "cell_type": "markdown",
      "metadata": {
        "id": "-on4bsHxk03d"
      },
      "source": [
        "Task 9. Heuristics"
      ]
    },
    {
      "cell_type": "code",
      "metadata": {
        "id": "pV-lrYSPk0Ya"
      },
      "source": [
        "totalMessages = dataset.shape[0]\n",
        "# Only 2.\n",
        "accuracy_2 = 0\n",
        "for category, message in zip(dataset[\"Category\"], dataset[\"Message\"]):\n",
        "  capitals, totals = percentageOfCapitalizedWords(message)\n",
        "  percentageOfCapitalizedWordsInMessage = (capitals/totals)*100 if (totals > 0) else 0\n",
        "\n",
        "  if (percentageOfCapitalizedWordsInMessage > 6.00):\n",
        "    assignedCategory = \"spam\"\n",
        "  else:\n",
        "    assignedCategory = \"ham\"\n",
        "\n",
        "  if (category == assignedCategory):\n",
        "    accuracy_2 += 1\n",
        "\n",
        "accuracy_2 = (accuracy_2/totalMessages)*100\n",
        "print(\"The accuracy by considering only 2.\")\n",
        "print(accuracy_2)\n",
        "\n",
        "\n",
        "# Only 3\n",
        "accuracy_3 = 0\n",
        "for category, message in zip(dataset[\"Category\"], dataset[\"Message\"]):\n",
        "  emailIds, phoneNumbers = printEmailsAndNumbers(message)\n",
        "\n",
        "  if (emailIds + phoneNumbers > 0):\n",
        "    assignedCategory = \"spam\"\n",
        "  else:\n",
        "    assignedCategory = \"ham\"\n",
        "\n",
        "  if (category == assignedCategory):\n",
        "    accuracy_3 += 1\n",
        "\n",
        "accuracy_3 = (accuracy_3/totalMessages)*100\n",
        "print()\n",
        "print(\"The accuracy by considering only 3.\")\n",
        "print(accuracy_3)\n",
        "\n",
        "\n",
        "# Only 4\n",
        "accuracy_4 = 0\n",
        "for category, message in zip(dataset[\"Category\"], dataset[\"Message\"]):\n",
        "  monetaryQs = printMonetaryQs(message)\n",
        "\n",
        "  if (monetaryQs > 0):\n",
        "    assignedCategory = \"spam\"\n",
        "  else:\n",
        "    assignedCategory = \"ham\"\n",
        "\n",
        "  if (category == assignedCategory):\n",
        "    accuracy_4 += 1\n",
        "\n",
        "accuracy_4 = (accuracy_4/totalMessages)*100\n",
        "print()\n",
        "print(\"The accuracy by considering only 4.\")\n",
        "print(accuracy_4)\n",
        "\n",
        "\n",
        "# 2, 3\n",
        "accuracy_23 = 0\n",
        "for category, message in zip(dataset[\"Category\"], dataset[\"Message\"]):\n",
        "  capitals, totals = percentageOfCapitalizedWords(message)\n",
        "  percentageOfCapitalizedWordsInMessage = (capitals/totals)*100 if (totals > 0) else 0\n",
        "  emailIds, phoneNumbers = printEmailsAndNumbers(message)\n",
        "\n",
        "\n",
        "  if (percentageOfCapitalizedWordsInMessage > 6.00 and emailIds + phoneNumbers > 0):\n",
        "    assignedCategory = \"spam\"\n",
        "  else:\n",
        "    assignedCategory = \"ham\"\n",
        "\n",
        "  if (category == assignedCategory):\n",
        "    accuracy_23 += 1\n",
        "\n",
        "\n",
        "accuracy_23 = (accuracy_23/totalMessages)*100\n",
        "print()\n",
        "print(\"The accuracy by considering 2 and 3.\")\n",
        "print(accuracy_23)\n",
        "\n",
        "\n",
        "# 2, 4\n",
        "accuracy_24 = 0\n",
        "for category, message in zip(dataset[\"Category\"], dataset[\"Message\"]):\n",
        "  capitals, totals = percentageOfCapitalizedWords(message)\n",
        "  percentageOfCapitalizedWordsInMessage = (capitals/totals)*100 if (totals > 0) else 0\n",
        "  monetaryQs = printMonetaryQs(message)\n",
        "  \n",
        "\n",
        "  if (percentageOfCapitalizedWordsInMessage > 6.00 and monetaryQs > 0):\n",
        "    assignedCategory = \"spam\"\n",
        "  else:\n",
        "    assignedCategory = \"ham\"\n",
        "\n",
        "  if (category == assignedCategory):\n",
        "    accuracy_24 += 1\n",
        "\n",
        "accuracy_24 = (accuracy_24/totalMessages)*100\n",
        "print()\n",
        "print(\"The accuracy by considering 2 and 4.\")\n",
        "print(accuracy_24)\n",
        "\n",
        "\n",
        "# 3, 4\n",
        "accuracy_34 = 0\n",
        "for category, message in zip(dataset[\"Category\"], dataset[\"Message\"]):\n",
        "  monetaryQs = printMonetaryQs(message)\n",
        "  emailIds, phoneNumbers = printEmailsAndNumbers(message)\n",
        "  \n",
        "  if (emailIds + phoneNumbers > 0 and monetaryQs > 0):\n",
        "    assignedCategory = \"spam\"\n",
        "  else:\n",
        "    assignedCategory = \"ham\"\n",
        "\n",
        "  if (category == assignedCategory):\n",
        "    accuracy_34 += 1\n",
        "\n",
        "accuracy_34 = (accuracy_34/totalMessages)*100\n",
        "\n",
        "print()\n",
        "print(\"The accuracy by considering 3 and 4.\")\n",
        "print(accuracy_34)\n",
        "\n",
        "\n",
        "\n",
        "# 2, 3 and 4\n",
        "accuracy_234 = 0\n",
        "for category, message in zip(dataset[\"Category\"], dataset[\"Message\"]):\n",
        "  capitals, totals = percentageOfCapitalizedWords(message)\n",
        "  percentageOfCapitalizedWordsInMessage = (capitals/totals)*100 if (totals > 0) else 0\n",
        "  monetaryQs = printMonetaryQs(message)\n",
        "  emailIds, phoneNumbers = printEmailsAndNumbers(message)\n",
        "  \n",
        "  if (emailIds + phoneNumbers > 0 and monetaryQs > 0 and percentageOfCapitalizedWordsInMessage > 6.00):\n",
        "    assignedCategory = \"spam\"\n",
        "  else:\n",
        "    assignedCategory = \"ham\"\n",
        "\n",
        "  if (category == assignedCategory):\n",
        "    accuracy_234 += 1\n",
        "\n",
        "accuracy_234 = (accuracy_234/totalMessages)*100\n",
        "\n",
        "print()\n",
        "print(\"The accuracy by considering 2, 3 and 4\")\n",
        "print(accuracy_234)\n",
        "\n",
        "print()\n",
        "print(\"The winning heuristic is 3 with accuracy\", accuracy_3)"
      ],
      "execution_count": null,
      "outputs": []
    },
    {
      "cell_type": "markdown",
      "metadata": {
        "id": "poFN5pgtnTxX"
      },
      "source": [
        "Read from text file."
      ]
    },
    {
      "cell_type": "code",
      "metadata": {
        "colab": {
          "resources": {
            "http://localhost:8080/nbextensions/google.colab/files.js": {
              "data": "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",
              "ok": true,
              "headers": [
                [
                  "content-type",
                  "application/javascript"
                ]
              ],
              "status": 200,
              "status_text": ""
            }
          },
          "base_uri": "https://localhost:8080/",
          "height": 72
        },
        "id": "uhYi20ZgoHwc",
        "outputId": "7a8ebf38-952d-41af-8a0b-243fae83b8fc"
      },
      "source": [
        "uploaded = files.upload()"
      ],
      "execution_count": 123,
      "outputs": [
        {
          "output_type": "display_data",
          "data": {
            "text/html": [
              "\n",
              "     <input type=\"file\" id=\"files-f7b03bbd-5133-4550-b37e-e9b141076cbd\" name=\"files[]\" multiple disabled\n",
              "        style=\"border:none\" />\n",
              "     <output id=\"result-f7b03bbd-5133-4550-b37e-e9b141076cbd\">\n",
              "      Upload widget is only available when the cell has been executed in the\n",
              "      current browser session. Please rerun this cell to enable.\n",
              "      </output>\n",
              "      <script src=\"/nbextensions/google.colab/files.js\"></script> "
            ],
            "text/plain": [
              "<IPython.core.display.HTML object>"
            ]
          },
          "metadata": {}
        },
        {
          "output_type": "stream",
          "name": "stdout",
          "text": [
            "Saving text.txt to text (5).txt\n"
          ]
        }
      ]
    },
    {
      "cell_type": "code",
      "metadata": {
        "id": "qT6_1cEwuPiy"
      },
      "source": [
        "with open('text.txt', 'r') as file:\n",
        "    data = file.read()"
      ],
      "execution_count": 205,
      "outputs": []
    },
    {
      "cell_type": "code",
      "metadata": {
        "id": "2JzEMm07rvkJ"
      },
      "source": [
        "custom_word = input(\"Enter word: \")\n",
        "sentences = sent_tokenize(data)\n",
        "count_of_words = 0\n",
        "count_of_sentences = 0\n",
        "tokenizer = RegexpTokenizer(r'\\w+')\n",
        "  \n",
        "for sentence in sentences:\n",
        "  inSentence = False \n",
        "  words = tokenizer.tokenize(sentence)\n",
        "  # print(words)\n",
        "  for word in words:\n",
        "    if len(word) > 0 and word.lower() == custom_word.lower():\n",
        "      print(sentence)\n",
        "      count_of_words += 1\n",
        "\n",
        "      if inSentence == False:\n",
        "        inSentence = True\n",
        "        count_of_sentences += 1\n",
        "\n",
        "print(\"The number of sentences with the given word: \")\n",
        "print(count_of_sentences)\n",
        "\n",
        "print()\n",
        "\n",
        "print(\"The number of words the given word occurs\")\n",
        "print(count_of_words)"
      ],
      "execution_count": null,
      "outputs": []
    }
  ]
}