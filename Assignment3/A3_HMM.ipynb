{
  "nbformat": 4,
  "nbformat_minor": 0,
  "metadata": {
    "colab": {
      "name": "A3_HMM.ipynb",
      "provenance": [],
      "collapsed_sections": [],
      "machine_shape": "hm"
    },
    "kernelspec": {
      "name": "python3",
      "display_name": "Python 3"
    }
  },
  "cells": [
    {
      "cell_type": "code",
      "metadata": {
        "id": "IyE1ye3kAvIW"
      },
      "source": [
        "import numpy as np\n",
        "import itertools\n",
        "import matplotlib.pyplot as plt\n",
        "import random\n",
        "import sklearn.metrics\n",
        "from prettytable import PrettyTable "
      ],
      "execution_count": 37,
      "outputs": []
    },
    {
      "cell_type": "markdown",
      "metadata": {
        "id": "gsNqGPTEaeeG"
      },
      "source": [
        "### Q1"
      ]
    },
    {
      "cell_type": "code",
      "metadata": {
        "colab": {
          "base_uri": "https://localhost:8080/"
        },
        "id": "7tkQ_z2iBs9O",
        "outputId": "2d7f7dfe-6759-47b2-8706-cf077a3c1f93"
      },
      "source": [
        "from google.colab import drive\n",
        "drive.mount(\"/content/gdrive\")"
      ],
      "execution_count": 38,
      "outputs": [
        {
          "output_type": "stream",
          "name": "stdout",
          "text": [
            "Drive already mounted at /content/gdrive; to attempt to forcibly remount, call drive.mount(\"/content/gdrive\", force_remount=True).\n"
          ]
        }
      ]
    },
    {
      "cell_type": "code",
      "metadata": {
        "id": "1axxnpkRB7Oj"
      },
      "source": [
        "fname = '/content/gdrive/My Drive/Brown_tagged_train.txt'\n",
        "file = open(fname,'r')\n",
        "text = file.read()\n",
        "file.close()"
      ],
      "execution_count": 39,
      "outputs": []
    },
    {
      "cell_type": "code",
      "metadata": {
        "id": "y7lquqYsCzZZ"
      },
      "source": [
        "sents=[]\n",
        "for line in text.split('\\n'):\n",
        "  #print(line)\n",
        "  lst = []\n",
        "  for wd in line.split():\n",
        "    x = wd.split('/')\n",
        "\n",
        "    if len(x)>2:\n",
        "      y = []\n",
        "      y.append('/'.join(x[:len(x)-1]))\n",
        "      y.append(x[-1])\n",
        "      x=y\n",
        "      #print(x)\n",
        "    lst.append(x)\n",
        "\n",
        "  sents.append(lst)"
      ],
      "execution_count": 40,
      "outputs": []
    },
    {
      "cell_type": "code",
      "metadata": {
        "id": "_3kgL3RXGU4Q",
        "colab": {
          "base_uri": "https://localhost:8080/"
        },
        "outputId": "8e7f6cff-05b6-4fa3-af5b-dc7d55ad74c8"
      },
      "source": [
        "sent_tag = sents\n",
        "mod_sent_tag=[]\n",
        "tot=0\n",
        "mini = 1000\n",
        "maxi = -1\n",
        "\n",
        "for s in sent_tag:\n",
        "  tot+=len(s)\n",
        "  mini = min(len(s),mini)\n",
        "  maxi = max(len(s),maxi)\n",
        "  s.insert(0,('<start>','<start>'))\n",
        "  s.append(('<end>','<end>'))\n",
        "  mod_sent_tag.append(s)\n",
        "\n",
        "print(\"The average length of sentences is \"+str(round(tot/len(sent_tag),2)))\n",
        "print(\"The minimum length of sentences is \"+str(mini))\n",
        "print(\"The maximum length of sentences is \"+str(maxi))\n"
      ],
      "execution_count": 41,
      "outputs": [
        {
          "output_type": "stream",
          "name": "stdout",
          "text": [
            "The average length of sentences is 19.76\n",
            "The minimum length of sentences is 0\n",
            "The maximum length of sentences is 386\n"
          ]
        }
      ]
    },
    {
      "cell_type": "code",
      "metadata": {
        "id": "6PFRYrhCBKyo"
      },
      "source": [
        "#mod_sent_tag"
      ],
      "execution_count": 42,
      "outputs": []
    },
    {
      "cell_type": "code",
      "metadata": {
        "id": "ee3csWQiG9MG"
      },
      "source": [
        "n1 = int(len(mod_sent_tag)*0.8)\n",
        "train_data = mod_sent_tag[0:n1]\n",
        "test_data = mod_sent_tag[n1:]"
      ],
      "execution_count": 43,
      "outputs": []
    },
    {
      "cell_type": "code",
      "metadata": {
        "id": "HWhLjw51i5Wf"
      },
      "source": [
        "def get_train_word_tags(train_data):\n",
        "  \n",
        "  train_word_tag = {}\n",
        "  for s in train_data:\n",
        "    try:\n",
        "      for w,t in s:\n",
        "        w = w.lower()\n",
        "        if t in train_word_tag:\n",
        "          if w in train_word_tag[t]:\n",
        "            train_word_tag[t][w]+=1\n",
        "          else:\n",
        "            train_word_tag[t][w]=1\n",
        "        else:\n",
        "          train_word_tag[t]={w:1}\n",
        "    except:\n",
        "      continue\n",
        "  \n",
        "  return train_word_tag"
      ],
      "execution_count": 44,
      "outputs": []
    },
    {
      "cell_type": "code",
      "metadata": {
        "id": "yjJShqL0cfA9"
      },
      "source": [
        "train_word_tag = get_train_word_tags(train_data)"
      ],
      "execution_count": 45,
      "outputs": []
    },
    {
      "cell_type": "code",
      "metadata": {
        "id": "jqTT_asZVWbS"
      },
      "source": [
        "train_word_tag"
      ],
      "execution_count": null,
      "outputs": []
    },
    {
      "cell_type": "code",
      "metadata": {
        "colab": {
          "base_uri": "https://localhost:8080/",
          "height": 384
        },
        "id": "C27kElV_l3ec",
        "outputId": "42beb044-f476-4633-e16e-0e1647d1d97f"
      },
      "source": [
        "tgs = []\n",
        "cts = []\n",
        "sumi = 0\n",
        "for k in train_word_tag.keys():\n",
        "  tgs.append(k)\n",
        "  cts.append(len(train_word_tag[k]))\n",
        "  sumi+=len(train_word_tag[k])\n",
        "  #print(len(train_word_tag[k]))\n",
        "fig = plt.figure(figsize = (10, 5))\n",
        "\n",
        "plt.bar(tgs, cts,\n",
        "\t\twidth = 0.4)\n",
        "\n",
        "plt.xlabel(\"Tags\")\n",
        "plt.ylabel(\"No. of occurences\")\n",
        "plt.title(\"Distinct word per tag plot\")\n",
        "plt.show()\n",
        "print(\"There are total \"+str(sumi)+\" words in the vocab\")\n",
        "print(\"There are total \"+str(len(train_word_tag))+\" words in the vocab\")"
      ],
      "execution_count": 47,
      "outputs": [
        {
          "output_type": "display_data",
          "data": {
            "image/png": "[encoded data removed]",
            "text/plain": [
              "<Figure size 720x360 with 1 Axes>"
            ]
          },
          "metadata": {
            "needs_background": "light"
          }
        },
        {
          "output_type": "stream",
          "name": "stdout",
          "text": [
            "There are total 29017 words in the vocab\n",
            "There are total 14 words in the vocab\n"
          ]
        }
      ]
    },
    {
      "cell_type": "code",
      "metadata": {
        "colab": {
          "base_uri": "https://localhost:8080/",
          "height": 350
        },
        "id": "q8DStGzjmgk7",
        "outputId": "14283118-3117-43e4-f10e-958a840db826"
      },
      "source": [
        "tgs = []\n",
        "cts = []\n",
        "\n",
        "for k in train_word_tag.keys():\n",
        "  tgs.append(k)\n",
        "  sumi=0\n",
        "  for v in train_word_tag[k].keys():\n",
        "    sumi += train_word_tag[k][v]\n",
        "  cts.append(sumi)\n",
        "\n",
        "fig = plt.figure(figsize = (10, 5))\n",
        "\n",
        "plt.bar(tgs, cts,\n",
        "\t\twidth = 0.4)\n",
        "\n",
        "plt.xlabel(\"Tags\")\n",
        "plt.ylabel(\"No. of occurences\")\n",
        "plt.title(\"Tag bar plot\")\n",
        "plt.show()"
      ],
      "execution_count": 48,
      "outputs": [
        {
          "output_type": "display_data",
          "data": {
            "image/png": "[encoded data removed]",
            "text/plain": [
              "<Figure size 720x360 with 1 Axes>"
            ]
          },
          "metadata": {
            "needs_background": "light"
          }
        }
      ]
    },
    {
      "cell_type": "code",
      "metadata": {
        "id": "3F38qhEBpJ_f"
      },
      "source": [
        "#train_word_tag"
      ],
      "execution_count": 49,
      "outputs": []
    },
    {
      "cell_type": "code",
      "metadata": {
        "id": "_rqc2hLcVn3F"
      },
      "source": [
        "def get_transmission_probs(train_word_tag):\n",
        "  tem_prob={}\n",
        "  for k in train_word_tag.keys():\n",
        "    tem_prob[k]={}\n",
        "    count = sum(train_word_tag[k].values())\n",
        "    for k2 in train_word_tag[k].keys():\n",
        "      tem_prob[k][k2]=train_word_tag[k][k2]/count\n",
        "  return tem_prob"
      ],
      "execution_count": 50,
      "outputs": []
    },
    {
      "cell_type": "code",
      "metadata": {
        "id": "3EfAiTnYc0XL"
      },
      "source": [
        "tem_prob = get_transmission_probs(train_word_tag)"
      ],
      "execution_count": 51,
      "outputs": []
    },
    {
      "cell_type": "code",
      "metadata": {
        "id": "EXaZ_itWesR4"
      },
      "source": [
        "#print(tem_prob)"
      ],
      "execution_count": 52,
      "outputs": []
    },
    {
      "cell_type": "code",
      "metadata": {
        "id": "6QY_-7zgfdWW"
      },
      "source": [
        "def calculateBigrams(tokens):\n",
        "  n = 2\n",
        "  #tokens = 1*['<START>']+tokens\n",
        "  l = [(tokens[i-1], tokens[i]) for i in range(1, len(tokens))]\n",
        "  return l"
      ],
      "execution_count": 53,
      "outputs": []
    },
    {
      "cell_type": "code",
      "metadata": {
        "id": "TEEKsgXqff-4"
      },
      "source": [
        "#calculateBigrams([('<start>', '<start>'), ['At', 'ADP'], ['that', 'DET'], ['time', 'NOUN'], ['highway', 'NOUN'], ['engineers', 'NOUN'], ['traveled', 'VERB'], ['rough', 'ADJ'], ['and', 'CONJ'], ['dirty', 'ADJ'], ['roads', 'NOUN'], ['to', 'PRT'], ['accomplish', 'VERB'], ['their', 'DET'], ['duties', 'NOUN'], ['.', '.'], (''<end>'', ''<end>'')])"
      ],
      "execution_count": 54,
      "outputs": []
    },
    {
      "cell_type": "code",
      "metadata": {
        "id": "WbMOdieDkBqo"
      },
      "source": [
        "def get_bigram_tag_data(train_data):\n",
        "  bigram_tag_data = {}\n",
        "  for s in train_data:\n",
        "    bi=list(calculateBigrams(s))\n",
        "    # print(bi)\n",
        "    # print(s)\n",
        "    #break\n",
        "    for b1,b2 in bi:\n",
        "      if b1[1] in bigram_tag_data:\n",
        "        if b2[1] in bigram_tag_data[b1[1]]:\n",
        "          bigram_tag_data[b1[1]][b2[1]]+=1\n",
        "        else:\n",
        "          bigram_tag_data[b1[1]][b2[1]]=1\n",
        "      else:\n",
        "        bigram_tag_data[b1[1]]={b2[1]:1}\n",
        "    \n",
        "    btag_prob={}\n",
        "    for k in bigram_tag_data.keys():\n",
        "      btag_prob[k]={}\n",
        "      count=sum(bigram_tag_data[k].values())\n",
        "      for k2 in bigram_tag_data[k].keys():\n",
        "        btag_prob[k][k2]=bigram_tag_data[k][k2]/count\n",
        "  \n",
        "  return btag_prob"
      ],
      "execution_count": 55,
      "outputs": []
    },
    {
      "cell_type": "code",
      "metadata": {
        "id": "0tHzppQFdCDH"
      },
      "source": [
        "btag_prob = get_bigram_tag_data(train_data)"
      ],
      "execution_count": 56,
      "outputs": []
    },
    {
      "cell_type": "code",
      "metadata": {
        "id": "WRuQK1dGqjDf"
      },
      "source": [
        "def train(train_data, btag_prob, test_data):\n",
        "  tags_of_tokens = {}\n",
        "  count=0\n",
        "  for s in train_data:\n",
        "    try:\n",
        "      for (w,t) in s:\n",
        "        w=w.lower()\n",
        "        try:\n",
        "          if t not in tags_of_tokens[w]:\n",
        "            tags_of_tokens[w].append(t)\n",
        "        except:\n",
        "          l = []\n",
        "          l.append(t)\n",
        "          tags_of_tokens[w] = l\n",
        "    except:\n",
        "      continue\n",
        "\n",
        "  test_words=[]\n",
        "  test_tags=[]\n",
        "  for s in test_data:\n",
        "    temp_word=[]\n",
        "    temp_tag=[]\n",
        "    try:\n",
        "      for (w,t) in s:\n",
        "        temp_word.append(w.lower())\n",
        "        temp_tag.append(t)\n",
        "      test_words.append(temp_word)\n",
        "      test_tags.append(temp_tag)\n",
        "    except:\n",
        "      continue\n",
        "      #print(s)\n",
        "\n",
        "  ptags = []                \n",
        "  for x in range(len(test_words)):   \n",
        "    s = test_words[x]\n",
        "\n",
        "    store = {}              \n",
        "    for q in range(len(s)):\n",
        "      step = s[q]\n",
        "\n",
        "      if q == 1:                \n",
        "        store[q] = {}\n",
        "        try:\n",
        "          tags = tags_of_tokens[step]\n",
        "        except:\n",
        "          tags = ['NOUN']\n",
        "        for t in tags:\n",
        "          try:\n",
        "            store[q][t] = ['<start>',btag_prob['<start>'][t]*tem_prob[t][step]]\n",
        "          except:\n",
        "            store[q][t] = ['<start>',0.0001]\n",
        "      \n",
        "      if q>1:\n",
        "        store[q] = {}\n",
        "        previous_states = list(store[q-1].keys())   \n",
        "        try:\n",
        "          current_states  = tags_of_tokens[step]              \n",
        "        except:\n",
        "          current_states = ['NOUN']\n",
        "\n",
        "        for t in current_states:                             \n",
        "          temp = []\n",
        "          for pt in previous_states:                         \n",
        "            try:\n",
        "              temp.append(store[q-1][pt][1]*btag_prob[pt][t]*tem_prob[t][step])\n",
        "            except:\n",
        "              temp.append(store[q-1][pt][1]*0.0001)\n",
        "\n",
        "          max_temp_index = temp.index(max(temp))\n",
        "          best_pt = previous_states[max_temp_index]\n",
        "          store[q][t]=[best_pt,max(temp)]\n",
        "\n",
        "    pred_tags = []\n",
        "    total_steps_num = store.keys()\n",
        "    last_step_num = max(total_steps_num)\n",
        "    #print(total_steps_num)\n",
        "    for bs in range(len(total_steps_num)):\n",
        "      step_num = last_step_num - bs\n",
        "      \n",
        "      if step_num == last_step_num:\n",
        "        pred_tags.append('<end>')\n",
        "        pred_tags.append(store[step_num]['<end>'][0])\n",
        "      \n",
        "      if step_num<last_step_num and step_num>0:\n",
        "        pred_tags.append(store[step_num][pred_tags[len(pred_tags)-1]][0])\n",
        "    \n",
        "    ptags.append(list(reversed(pred_tags)))\n",
        "\n",
        "  return ptags,test_tags\n"
      ],
      "execution_count": 66,
      "outputs": []
    },
    {
      "cell_type": "code",
      "metadata": {
        "id": "6GcSN_m3eT1Z"
      },
      "source": [
        "ptags,test_tags = train(train_data, btag_prob, test_data)"
      ],
      "execution_count": 58,
      "outputs": []
    },
    {
      "cell_type": "code",
      "metadata": {
        "id": "5LVpkq5QbycG"
      },
      "source": [
        "def accu(pred_tags, test_tags):\n",
        "  cor = 0 \n",
        "  incor = 0\n",
        "  d={}\n",
        "  for i in range(len(test_tags)):\n",
        "    gt = test_tags[i]\n",
        "    pred = pred_tags[i]\n",
        "    for h in range(len(gt)):\n",
        "      try:\n",
        "        if gt[h] == pred[h]:\n",
        "          cor = cor+1\n",
        "        else:\n",
        "          try:\n",
        "            d[gt[h]]+=1\n",
        "          except:\n",
        "            d[gt[h]]=1\n",
        "          incor = incor +1 \n",
        "      except:\n",
        "        print(len(gt))\n",
        "        print(len(pred))\n",
        "  print(d)  \n",
        "\n",
        "  print('Accuracy:',cor/(cor+incor))"
      ],
      "execution_count": 59,
      "outputs": []
    },
    {
      "cell_type": "code",
      "metadata": {
        "id": "L9CBrphuEu0J",
        "colab": {
          "base_uri": "https://localhost:8080/"
        },
        "outputId": "4cc8a3f7-f417-4532-a20d-7e9b21414aff"
      },
      "source": [
        "accu(ptags, test_tags)"
      ],
      "execution_count": 60,
      "outputs": [
        {
          "output_type": "stream",
          "name": "stdout",
          "text": [
            "{'ADJ': 994, 'VERB': 1028, 'ADV': 577, 'NOUN': 685, 'DET': 302, 'NUM': 15, 'ADP': 522, 'PRON': 174, 'PRT': 464, 'X': 122, 'CONJ': 5, '.': 1}\n",
            "Accuracy: 0.953893452285523\n"
          ]
        }
      ]
    },
    {
      "cell_type": "code",
      "metadata": {
        "colab": {
          "base_uri": "https://localhost:8080/",
          "height": 384
        },
        "id": "pjXdUi1ixBMl",
        "outputId": "27a69977-47bd-4bcf-9b6a-66fe32e65024"
      },
      "source": [
        "dict = {'ADJ': 994, 'VERB': 1028, 'ADV': 577, 'NOUN': 685, 'DET': 302, 'NUM': 15, 'ADP': 522, 'PRON': 174, 'PRT': 464, 'X': 122, 'CONJ': 5, '.': 1}\n",
        "x = list(dict.keys())\n",
        "y = list(dict.values())\n",
        "print(x)\n",
        "print(y)\n",
        "\n",
        "fig = plt.figure(figsize = (10, 5))\n",
        "\n",
        "plt.bar(x, y,\n",
        "\t\twidth = 0.4)\n",
        "\n",
        "plt.xlabel(\"Tags\")\n",
        "plt.ylabel(\"No. of missclassifications\")\n",
        "plt.title(\"Plots for misclassification\")\n",
        "plt.show()"
      ],
      "execution_count": 74,
      "outputs": [
        {
          "output_type": "stream",
          "name": "stdout",
          "text": [
            "['ADJ', 'VERB', 'ADV', 'NOUN', 'DET', 'NUM', 'ADP', 'PRON', 'PRT', 'X', 'CONJ', '.']\n",
            "[994, 1028, 577, 685, 302, 15, 522, 174, 464, 122, 5, 1]\n"
          ]
        },
        {
          "output_type": "display_data",
          "data": {
            "image/png": "[encoded data removed]",
            "text/plain": [
              "<Figure size 720x360 with 1 Axes>"
            ]
          },
          "metadata": {
            "needs_background": "light"
          }
        }
      ]
    },
    {
      "cell_type": "code",
      "metadata": {
        "id": "w0JLz5K6xR7p"
      },
      "source": [
        ""
      ],
      "execution_count": null,
      "outputs": []
    },
    {
      "cell_type": "code",
      "metadata": {
        "id": "HlREDGVkZnoc"
      },
      "source": [
        "random.shuffle(mod_sent_tag)"
      ],
      "execution_count": 61,
      "outputs": []
    },
    {
      "cell_type": "code",
      "metadata": {
        "id": "Iai8pLasa4Uk"
      },
      "source": [
        "def cf_matrix(pred_tags,test_tags):\n",
        "  head = ['<start>','PRON','VERB','ADP','DET','ADJ','NOUN','.','ADV','CONJ','X','PRT','NUM','<end>']\n",
        "  myTable = PrettyTable(head)\n",
        "  i=0\n",
        "  d={}\n",
        "  for wd in head:\n",
        "    d[wd]=i\n",
        "    i+=1\n",
        "  mx=[]\n",
        "  for i in range(14):\n",
        "    mx.append([0]*14)\n",
        "  print(d)\n",
        "\n",
        "  for i in range(len(test_tags)):\n",
        "    gt = test_tags[i]\n",
        "    pred = pred_tags[i]\n",
        "    for h in range(len(gt)):\n",
        "      mx[ d[gt[h]] ][ d[pred[h]] ]+=1\n",
        "  for row in mx:\n",
        "    myTable.add_row(row)\n",
        "  print(myTable)\n",
        "  return d,mx\n",
        "\n"
      ],
      "execution_count": 62,
      "outputs": []
    },
    {
      "cell_type": "code",
      "metadata": {
        "id": "J8ph45PhzMUj"
      },
      "source": [
        "def recall(d,mx):\n",
        "  for tag,dex in d.items():\n",
        "    print(\"Recall of tag \"+tag+\" is:\")\n",
        "    ans = round(mx[dex][dex]/sum(mx[:][dex]),2)\n",
        "    print(ans)\n",
        "\n",
        "def precision(d,mx):\n",
        "  for tag,dex in d.items():\n",
        "    print(\"Precision of tag \"+tag+\" is:\")\n",
        "    ans = round(mx[dex][dex]/sum(mx[dex][:]),2)\n",
        "    print(ans)\n",
        "\n",
        "def f1score(d,mx):\n",
        "  for tag,dex in d.items():\n",
        "    print(\"F1 score of tag \"+tag+\" is:\")\n",
        "    p = round(mx[dex][dex]/sum(mx[dex][:]),2)\n",
        "    r = round(mx[dex][dex]/sum(mx[:][dex]),2)\n",
        "    print(2*p*r/(p+r))"
      ],
      "execution_count": 63,
      "outputs": []
    },
    {
      "cell_type": "code",
      "metadata": {
        "id": "NfV1UVe7OPue"
      },
      "source": [
        "def ttpt(test_tags, ptags):\n",
        "  tt=[]\n",
        "  for lst in test_tags:\n",
        "    tt+=lst\n",
        "\n",
        "  pt=[]\n",
        "  for lst in ptags:\n",
        "    pt+=lst\n",
        "  return tt,pt"
      ],
      "execution_count": 64,
      "outputs": []
    },
    {
      "cell_type": "code",
      "metadata": {
        "colab": {
          "base_uri": "https://localhost:8080/"
        },
        "id": "cAxm6qagZ5cq",
        "outputId": "79789158-f320-47cb-e29b-4893115edb30"
      },
      "source": [
        "n1 = int(len(mod_sent_tag)*0.3)\n",
        "n2 = int(len(mod_sent_tag)*0.6)\n",
        "\n",
        "#fold1\n",
        "train_data = mod_sent_tag[0:n2]\n",
        "test_data = mod_sent_tag[n2:]\n",
        "\n",
        "train_word_tag = get_train_word_tags(train_data)\n",
        "tem_prob = get_transmission_probs(train_word_tag)\n",
        "btag_prob = get_bigram_tag_data(train_data)\n",
        "ptags, test_tags = train(train_data, btag_prob, test_data)\n",
        "tt,pt = ttpt(test_tags,ptags)\n",
        "print(sklearn.metrics.precision_recall_fscore_support(tt,pt,average='weighted'))\n",
        "d, mx = cf_matrix(ptags, test_tags)\n",
        "precision(d,mx)\n",
        "recall(d,mx)\n",
        "f1score(d,mx)"
      ],
      "execution_count": 67,
      "outputs": [
        {
          "output_type": "stream",
          "name": "stdout",
          "text": [
            "(0.9592192557999171, 0.9586537694204219, 0.9584009938177712, None)\n",
            "{'<start>': 0, 'PRON': 1, 'VERB': 2, 'ADP': 3, 'DET': 4, 'ADJ': 5, 'NOUN': 6, '.': 7, 'ADV': 8, 'CONJ': 9, 'X': 10, 'PRT': 11, 'NUM': 12, '<end>': 13}\n",
            "+---------+-------+-------+-------+-------+-------+-------+-------+------+------+----+------+------+-------+\n",
            "| <start> |  PRON |  VERB |  ADP  |  DET  |  ADJ  |  NOUN |   .   | ADV  | CONJ | X  | PRT  | NUM  | <end> |\n",
            "+---------+-------+-------+-------+-------+-------+-------+-------+------+------+----+------+------+-------+\n",
            "|  10997  |   0   |   0   |   0   |   0   |   0   |   0   |   0   |  0   |  0   | 0  |  0   |  0   |   0   |\n",
            "|    0    | 10601 |   0   |  248  |   94  |   0   |   17  |   0   |  0   |  0   | 0  |  0   |  0   |   0   |\n",
            "|    0    |   0   | 33204 |   38  |   0   |   79  |  2281 |   0   |  27  |  0   | 5  |  12  |  0   |   0   |\n",
            "|    0    |   35  |   20  | 25124 |  149  |   21  |   22  |   16  | 396  |  22  | 0  | 322  |  0   |   0   |\n",
            "|    0    |  242  |   0   |  100  | 24681 |   0   |   8   |   0   |  35  |  2   | 0  |  0   |  0   |   0   |\n",
            "|    0    |   0   |   74  |   8   |   0   | 12463 |  1559 |   0   | 418  |  0   | 2  |  42  |  1   |   0   |\n",
            "|    0    |   3   |  548  |   4   |   16  |  424  | 46709 |   0   |  34  |  0   | 18 |  20  |  80  |   0   |\n",
            "|    0    |   0   |   0   |   0   |   0   |   0   |   2   | 28655 |  0   |  0   | 7  |  0   |  0   |   0   |\n",
            "|    0    |   3   |   6   |  302  |   34  |  388  |  309  |   0   | 9823 |  11  | 0  | 177  |  0   |   0   |\n",
            "|    0    |   0   |   0   |   6   |   9   |   0   |   0   |   0   |  20  | 6897 | 0  |  0   |  0   |   0   |\n",
            "|    0    |   0   |   3   |   3   |   0   |   4   |  148  |   7   |  0   |  0   | 60 |  0   |  1   |   0   |\n",
            "|    0    |   4   |   6   |  484  |   1   |   2   |   98  |   0   |  70  |  0   | 0  | 5652 |  0   |   0   |\n",
            "|    0    |   0   |   0   |   0   |   0   |   0   |  293  |   0   |  0   |  0   | 4  |  0   | 2380 |   0   |\n",
            "|    0    |   0   |   0   |   0   |   0   |   0   |   0   |   0   |  0   |  0   | 0  |  0   |  0   | 10997 |\n",
            "+---------+-------+-------+-------+-------+-------+-------+-------+------+------+----+------+------+-------+\n",
            "Precision of tag <start> is:\n",
            "1.0\n",
            "Precision of tag PRON is:\n",
            "0.97\n",
            "Precision of tag VERB is:\n",
            "0.93\n",
            "Precision of tag ADP is:\n",
            "0.96\n",
            "Precision of tag DET is:\n",
            "0.98\n",
            "Precision of tag ADJ is:\n",
            "0.86\n",
            "Precision of tag NOUN is:\n",
            "0.98\n",
            "Precision of tag . is:\n",
            "1.0\n",
            "Precision of tag ADV is:\n",
            "0.89\n",
            "Precision of tag CONJ is:\n",
            "0.99\n",
            "Precision of tag X is:\n",
            "0.27\n",
            "Precision of tag PRT is:\n",
            "0.89\n",
            "Precision of tag NUM is:\n",
            "0.89\n",
            "Precision of tag <end> is:\n",
            "1.0\n",
            "Recall of tag <start> is:\n",
            "1.0\n",
            "Recall of tag PRON is:\n",
            "0.97\n",
            "Recall of tag VERB is:\n",
            "0.93\n",
            "Recall of tag ADP is:\n",
            "0.96\n",
            "Recall of tag DET is:\n",
            "0.98\n",
            "Recall of tag ADJ is:\n",
            "0.86\n",
            "Recall of tag NOUN is:\n",
            "0.98\n",
            "Recall of tag . is:\n",
            "1.0\n",
            "Recall of tag ADV is:\n",
            "0.89\n",
            "Recall of tag CONJ is:\n",
            "0.99\n",
            "Recall of tag X is:\n",
            "0.27\n",
            "Recall of tag PRT is:\n",
            "0.89\n",
            "Recall of tag NUM is:\n",
            "0.89\n",
            "Recall of tag <end> is:\n",
            "1.0\n",
            "F1 score of tag <start> is:\n",
            "1.0\n",
            "F1 score of tag PRON is:\n",
            "0.97\n",
            "F1 score of tag VERB is:\n",
            "0.93\n",
            "F1 score of tag ADP is:\n",
            "0.96\n",
            "F1 score of tag DET is:\n",
            "0.98\n",
            "F1 score of tag ADJ is:\n",
            "0.8599999999999999\n",
            "F1 score of tag NOUN is:\n",
            "0.98\n",
            "F1 score of tag . is:\n",
            "1.0\n",
            "F1 score of tag ADV is:\n",
            "0.89\n",
            "F1 score of tag CONJ is:\n",
            "0.99\n",
            "F1 score of tag X is:\n",
            "0.27\n",
            "F1 score of tag PRT is:\n",
            "0.89\n",
            "F1 score of tag NUM is:\n",
            "0.89\n",
            "F1 score of tag <end> is:\n",
            "1.0\n"
          ]
        }
      ]
    },
    {
      "cell_type": "code",
      "metadata": {
        "id": "KX8Ut3c2gH37"
      },
      "source": [
        "#fold2\n",
        "train_data = mod_sent_tag[n1:]\n",
        "test_data = mod_sent_tag[0:n1]\n",
        "\n",
        "train_word_tag = get_train_word_tags(train_data)\n",
        "tem_prob = get_transmission_probs(train_word_tag)\n",
        "btag_prob = get_bigram_tag_data(train_data)\n",
        "ptags, test_tags = train(train_data, btag_prob, test_data)\n",
        "tt,pt = ttpt(test_tags,ptags)\n",
        "print(sklearn.metrics.precision_recall_fscore_support(tt,pt,average='weighted'))\n",
        "d, mx = cf_matrix(ptags, test_tags)\n",
        "precision(d,mx)\n",
        "recall(d,mx)\n",
        "f1score(d,mx)"
      ],
      "execution_count": null,
      "outputs": []
    },
    {
      "cell_type": "code",
      "metadata": {
        "id": "0PA7qcznpv_Q"
      },
      "source": [
        "#fold3\n",
        "train_data = mod_sent_tag[0:n1]+mod_sent_tag[n2:]\n",
        "test_data = mod_sent_tag[n1:n2]\n",
        "\n",
        "train_word_tag = get_train_word_tags(train_data)\n",
        "tem_prob = get_transmission_probs(train_word_tag)\n",
        "btag_prob = get_bigram_tag_data(train_data)\n",
        "ptags, test_tags = train(train_data, btag_prob, test_data)\n",
        "tt,pt = ttpt(test_tags,ptags)\n",
        "print(sklearn.metrics.precision_recall_fscore_support(tt,pt,average='weighted'))\n",
        "d, mx = cf_matrix(ptags, test_tags)\n",
        "precision(d,mx)\n",
        "recall(d,mx)\n",
        "f1score(d,mx)"
      ],
      "execution_count": null,
      "outputs": []
    },
    {
      "cell_type": "code",
      "metadata": {
        "colab": {
          "base_uri": "https://localhost:8080/"
        },
        "id": "EycJlqs6qKPC",
        "outputId": "3edb6a1a-d700-48ef-ec3d-261a5f896cb1"
      },
      "source": [
        "for k in train_word_tag.keys():\n",
        "  print(k)"
      ],
      "execution_count": 70,
      "outputs": [
        {
          "output_type": "stream",
          "name": "stdout",
          "text": [
            "<start>\n",
            "DET\n",
            "NOUN\n",
            "ADJ\n",
            "ADP\n",
            "PRT\n",
            "VERB\n",
            ".\n",
            "PRON\n",
            "ADV\n",
            "<end>\n",
            "NUM\n",
            "CONJ\n",
            "X\n"
          ]
        }
      ]
    },
    {
      "cell_type": "code",
      "metadata": {
        "colab": {
          "base_uri": "https://localhost:8080/"
        },
        "id": "9yYjBCHUqwHv",
        "outputId": "b103702e-9b89-4911-e851-202f6419f767"
      },
      "source": [
        ""
      ],
      "execution_count": 71,
      "outputs": [
        {
          "output_type": "stream",
          "name": "stdout",
          "text": [
            "{'NOUN': 808, 'VERB': 1769, 'ADJ': 1589, 'PRON': 239, 'NUM': 200, 'PRT': 517, 'ADV': 908, 'ADP': 696, 'DET': 310, 'X': 148, 'CONJ': 21, '.': 1}\n",
            "Accuracy: 0.9599036262568371\n"
          ]
        }
      ]
    },
    {
      "cell_type": "code",
      "metadata": {
        "id": "BlshrjN_F8K-"
      },
      "source": [
        ""
      ],
      "execution_count": 71,
      "outputs": []
    }
  ]
}